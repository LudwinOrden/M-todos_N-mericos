{
  "nbformat": 4,
  "nbformat_minor": 0,
  "metadata": {
    "colab": {
      "provenance": [],
      "authorship_tag": "ABX9TyN5UvYxyLC37IXUY53ksxTt",
      "include_colab_link": true
    },
    "kernelspec": {
      "name": "python3",
      "display_name": "Python 3"
    },
    "language_info": {
      "name": "python"
    }
  },
  "cells": [
    {
      "cell_type": "markdown",
      "metadata": {
        "id": "view-in-github",
        "colab_type": "text"
      },
      "source": [
        "<a href=\"https://colab.research.google.com/github/LudwinOrden/M-todos_N-mericos/blob/main/Lista_1_M%C3%A9todos_N%C3%BAmericos.ipynb\" target=\"_parent\"><img src=\"https://colab.research.google.com/assets/colab-badge.svg\" alt=\"Open In Colab\"/></a>"
      ]
    },
    {
      "cell_type": "markdown",
      "source": [
        "***1***"
      ],
      "metadata": {
        "id": "mbJo_TwRfX0R"
      }
    },
    {
      "cell_type": "code",
      "execution_count": null,
      "metadata": {
        "id": "G1erfYDsfTeq"
      },
      "outputs": [],
      "source": [
        "Nome = input(\"Digite o seu Primeiro Nome: \")\n",
        "Idade = input(\"Digite sua verdadeira idade: \")\n",
        "Peso = input(\"Digite o seu peso, sim as gramas são importante: \")\n",
        "Altura = input(\"Digite sua altura: \")\n",
        "\n",
        "print(f'{Nome} tem {Idade} anos, tendo massa corporal: {Peso}Kg e altura: {Altura}cm')"
      ]
    },
    {
      "cell_type": "markdown",
      "source": [
        "***2***"
      ],
      "metadata": {
        "id": "4O-XfEw5fYmG"
      }
    },
    {
      "cell_type": "code",
      "source": [
        "P_Nota = float(input(\"Digite sua primeira nota, caro estudante: \"))\n",
        "S_Nota = float(input(\"Digite sua segunda nota estudante: \"))\n",
        "T_Nota = float(input(\"Digite sua terceira nota: \"))\n",
        "Q_Nota = float(input(\"Digite sua quarta: \"))\n",
        "Média = (P_Nota+S_Nota+T_Nota+Q_Nota)/4\n",
        "print(f\"Esse foi o resultado pelos seus esforços durante esse tempo de estudo: {Média}\")\n",
        "if Média < 7.0:\n",
        "  print(\"Decepcionante\")\n",
        "elif 9.0 > Média >= 7.0:\n",
        "  print(\"Aprovado pelo mínimo\")\n",
        "else:\n",
        "  print(\"Aprovado\")"
      ],
      "metadata": {
        "id": "kVG74tkkfZlA"
      },
      "execution_count": null,
      "outputs": []
    },
    {
      "cell_type": "markdown",
      "source": [
        "***3***"
      ],
      "metadata": {
        "id": "-X2iWUhQfaBW"
      }
    },
    {
      "cell_type": "code",
      "source": [
        "N_Carros = int(input(\"Número de modelos a serem inseridos: \"))\n",
        "Lista_Carros = []\n",
        "Lista_Valores = []\n",
        "for i in range(N_Carros):\n",
        "  print()\n",
        "  Modelo = input(\"Modelo do carro: \")\n",
        "  Vel = float(input(\"Velocidade do modelo: \"))\n",
        "  Valor = (1000/Vel)*5.90\n",
        "  Lista_Carros.append([Modelo, Vel])\n",
        "  Lista_Valores.append(Valor)\n",
        "\n",
        "for k in range(N_Carros):\n",
        "  print()\n",
        "  print(f\"O modelo {Lista_Carros[k][0]}, roda {Lista_Carros[k][1]} Km/l e gasta R${Lista_Valores[k]:.2f} de gasolina para pecorrer 1000 Km.\")"
      ],
      "metadata": {
        "id": "KabaOgVQfaTm"
      },
      "execution_count": null,
      "outputs": []
    },
    {
      "cell_type": "markdown",
      "source": [
        "***4***"
      ],
      "metadata": {
        "id": "pZKj8xKXmozD"
      }
    },
    {
      "cell_type": "code",
      "source": [
        "Temp_F = float(input(\"Digite a temperatura em F: \"))\n",
        "Temp_C = 5*((Temp_F-32)/9)\n",
        "print(f\"A temperatura de {Temp_F:.1f} graus em F, representa uma temperatura de {Temp_C:.1f} graus em C\")"
      ],
      "metadata": {
        "colab": {
          "base_uri": "https://localhost:8080/"
        },
        "id": "6Rtz_zUQmp7A",
        "outputId": "2b315e6f-f949-441a-c8e6-0ff5c8c58934"
      },
      "execution_count": null,
      "outputs": [
        {
          "output_type": "stream",
          "name": "stdout",
          "text": [
            "Digite a temperatura em F: 92\n",
            "A temperatura de 92.0 em F, representa uma temperatura de 33.3 em C\n"
          ]
        }
      ]
    },
    {
      "cell_type": "markdown",
      "source": [
        "***5***"
      ],
      "metadata": {
        "id": "eFvgGF_ZnTOr"
      }
    },
    {
      "cell_type": "code",
      "source": [
        "print(\"Bem vindos a tabuada do 13\")\n",
        "for i in range(10):\n",
        "  v = 13*(i+1)\n",
        "  print(f\"13 x {(i+1)} = {v};\")"
      ],
      "metadata": {
        "id": "_gCpptRBnUL3"
      },
      "execution_count": null,
      "outputs": []
    },
    {
      "cell_type": "markdown",
      "source": [
        "***6***"
      ],
      "metadata": {
        "id": "5MnspmKNn07_"
      }
    },
    {
      "cell_type": "code",
      "source": [
        "Vetor = []\n",
        "n_elementos = int(input(\"Digite o número de elementos no vetor: \"))\n",
        "for i in range(n_elementos):\n",
        "  elementos = float(input(f\"Digite o {(i+1)} elemento de seu vetor: \"))\n",
        "  Vetor.append(elementos)\n",
        "\n",
        "Valor_médio = sum(Vetor)/len(Vetor)\n",
        "print(f\"O valor médio do vetor é: {Valor_médio:.2f}\")\n",
        "\n",
        "Valores_Pr = []\n",
        "for k in Vetor:\n",
        "  diferença = k - Valor_médio\n",
        "  Valores_Pr.append(abs(diferença))\n",
        "\n",
        "val_minimo = min(Valores_Pr) + Valor_médio\n",
        "print(f\"O valor mais próximo do valor médio é: {val_minimo:.2f}\")\n"
      ],
      "metadata": {
        "id": "bllfU3XDn16T"
      },
      "execution_count": null,
      "outputs": []
    },
    {
      "cell_type": "markdown",
      "source": [
        "***7***"
      ],
      "metadata": {
        "id": "8ACNTeM3sq2Y"
      }
    },
    {
      "cell_type": "code",
      "source": [
        "lista = []\n",
        "for i in range(5):\n",
        "  lista.append(int(input()))\n",
        "\n",
        "print(f\"O menor valor da lista: {min(lista)}\")\n",
        "\n"
      ],
      "metadata": {
        "id": "Fbkv-7fvsrzO"
      },
      "execution_count": null,
      "outputs": []
    },
    {
      "cell_type": "markdown",
      "source": [
        "***8***"
      ],
      "metadata": {
        "id": "9IWfe0rXtFGN"
      }
    },
    {
      "cell_type": "code",
      "source": [
        "lista = []\n",
        "for i in range(5):\n",
        "  lista.append(int(input()))\n",
        "\n",
        "for k in range(5):\n",
        "  if k == 0:\n",
        "    pass\n",
        "  else:\n",
        "    if lista[k]>=lista[k-1] and k < 4:\n",
        "      pass\n",
        "    elif lista[k]>=lista[k-1] and k == 4:\n",
        "      print(\"True\")\n",
        "    else:\n",
        "      print(\"False\")\n",
        "      break"
      ],
      "metadata": {
        "id": "NfwrUBQltGC6"
      },
      "execution_count": null,
      "outputs": []
    },
    {
      "cell_type": "markdown",
      "source": [
        "***9***"
      ],
      "metadata": {
        "id": "98ZmW8RpuT22"
      }
    },
    {
      "cell_type": "code",
      "source": [
        "for i in range(491):\n",
        "  print(500 - i)"
      ],
      "metadata": {
        "id": "Fs2nFw-tuU9h"
      },
      "execution_count": null,
      "outputs": []
    },
    {
      "cell_type": "markdown",
      "source": [
        "***10***"
      ],
      "metadata": {
        "id": "p9wRccAMu1FT"
      }
    },
    {
      "cell_type": "code",
      "source": [
        "lista = []\n",
        "for i in range(10):\n",
        "  lista.append(float(input()))\n",
        "\n",
        "print()\n",
        "qt = 0\n",
        "for k in lista:\n",
        "  if 10<= k <=50:\n",
        "    qt += 1\n",
        "  else:\n",
        "    pass\n",
        "print(qt)"
      ],
      "metadata": {
        "id": "pmYrqv8ou2EA"
      },
      "execution_count": null,
      "outputs": []
    },
    {
      "cell_type": "markdown",
      "source": [
        "***11***"
      ],
      "metadata": {
        "id": "-z3tPlrFv2FL"
      }
    },
    {
      "cell_type": "code",
      "source": [
        "from random import randint\n",
        "\n",
        "n = [ randint(1,6) for i in range(10)]\n",
        "qt = [0, 0, 0, 0, 0, 0]\n",
        "for k in n:\n",
        "  if k == 1:\n",
        "    qt[0]+=1\n",
        "  elif k ==2:\n",
        "    qt[1]+=1\n",
        "  elif k ==3:\n",
        "    qt[2]+=1\n",
        "  elif k ==4:\n",
        "    qt[3]+=1\n",
        "  elif k ==5:\n",
        "    qt[4]+=1\n",
        "  else:\n",
        "    qt[5]+=1\n",
        "\n",
        "print(f\"Números obtidos: {n}\")\n",
        "print(f\"Quantidade de cada número obtido: {qt}\")"
      ],
      "metadata": {
        "id": "4GUnvUYPv3Vg"
      },
      "execution_count": null,
      "outputs": []
    },
    {
      "cell_type": "markdown",
      "source": [
        "***12***"
      ],
      "metadata": {
        "id": "6GMv6Cc5x_B3"
      }
    },
    {
      "cell_type": "code",
      "source": [
        "Int = int(input())\n",
        "if Int%2 == 0:\n",
        "  print(\"Par\")\n",
        "else:\n",
        "  print(\"Ímpar\")"
      ],
      "metadata": {
        "id": "bJricAaUx_vt"
      },
      "execution_count": null,
      "outputs": []
    },
    {
      "cell_type": "markdown",
      "source": [
        "***13***"
      ],
      "metadata": {
        "id": "PMZrT7qbyR0W"
      }
    },
    {
      "cell_type": "code",
      "source": [
        "a = float(input(\"Primeiro Número: \"))\n",
        "b = float(input(\"Segundo Número: \"))\n",
        "if a > b:\n",
        "  print(f\"O primeiro número é maior que o segundo: {a} > {b}\")\n",
        "elif a < b:\n",
        "  print(f\"O segundo número é maior que o primeiro: {b} > {a}\")\n",
        "else:\n",
        "  print(f\"{a} = {b}\")"
      ],
      "metadata": {
        "id": "GJMIIvM9ySb9"
      },
      "execution_count": null,
      "outputs": []
    },
    {
      "cell_type": "markdown",
      "source": [
        "***14***"
      ],
      "metadata": {
        "id": "iSOCs2m0zBO4"
      }
    },
    {
      "cell_type": "code",
      "source": [
        "lista_1 = []\n",
        "lista_2 = []\n",
        "n_ele_1 = int(input(\"n elementos da lista 1: \"))\n",
        "n_ele_2 = int(input(\"n elementos da lista2: \"))\n",
        "\n",
        "for i in range(n_ele_1):\n",
        "  lista_1.append(input(\"elemento lista 1: \"))\n",
        "\n",
        "for k in range(n_ele_2):\n",
        "  lista_2.append(input(\"elemento lista 2: \"))\n",
        "\n",
        "lista_3 = []\n",
        "if n_ele_1 > n_ele_2:\n",
        "  for j in range(n_ele_2):\n",
        "    lista_3.append(lista_2[j])\n",
        "    lista_3.append(lista_1[j])\n",
        "\n",
        "  for l in range(n_ele_1 - n_ele_2):\n",
        "    lista_3.append(lista_1[l+n_ele_2])\n",
        "\n",
        "else:\n",
        "  for j in range(n_ele_1):\n",
        "    lista_3.append(lista_1[j])\n",
        "    lista_3.append(lista_2[j])\n",
        "\n",
        "  for l in range(n_ele_2 - n_ele_1):\n",
        "    lista_3.append(lista_2[l+n_ele_1])\n",
        "\n",
        "lista_1\n",
        "lista_2\n",
        "lista_3\n",
        "\n"
      ],
      "metadata": {
        "id": "pEbA9T_TzCXe"
      },
      "execution_count": null,
      "outputs": []
    },
    {
      "cell_type": "markdown",
      "source": [
        "***15***"
      ],
      "metadata": {
        "id": "FLK9WNUn0zEn"
      }
    },
    {
      "cell_type": "code",
      "source": [
        "def Soma_de_3(a,b,c):\n",
        "  return a+b+c\n",
        "\n",
        "v1=float(input(\"Primeiro valor: \"))\n",
        "v2=float(input(\"Segundo valor: \"))\n",
        "v3=float(input(\"Terceiro valor: \"))\n",
        "\n",
        "Soma_de_3(v1,v2,v3)"
      ],
      "metadata": {
        "id": "SR93CK-N00VS"
      },
      "execution_count": null,
      "outputs": []
    },
    {
      "cell_type": "markdown",
      "source": [
        "***16***"
      ],
      "metadata": {
        "id": "qCrnW7I81T5m"
      }
    },
    {
      "cell_type": "code",
      "source": [
        "def Maior_N(a,b,c):\n",
        "  if a == b or a == c:\n",
        "    return \"Os números devem ser diferentes\"\n",
        "  else:\n",
        "    if a> b and a>c:\n",
        "      return a\n",
        "    elif b > a and b > c:\n",
        "      return b\n",
        "    else:\n",
        "      return c\n",
        "\n",
        "def Menor_N(a,b,c):\n",
        "  if a == b or a == c:\n",
        "    return \"Os números devem ser diferentes\"\n",
        "  else:\n",
        "    if a < b and a < c:\n",
        "      return a\n",
        "    elif b < a and b < c:\n",
        "      return b\n",
        "    else:\n",
        "      return c\n",
        "\n",
        "v1=float(input(\"Primeiro valor: \"))\n",
        "v2=float(input(\"Segundo valor: \"))\n",
        "v3=float(input(\"Terceiro valor: \"))\n",
        "\n",
        "print(f\"Maior valor: {Maior_N(v1,v2,v3)}\")\n",
        "print(f\"Menor valor: {Menor_N(v1,v2,v3)}\")"
      ],
      "metadata": {
        "id": "D68d4X3k1Utv"
      },
      "execution_count": null,
      "outputs": []
    },
    {
      "cell_type": "markdown",
      "source": [
        "***17***"
      ],
      "metadata": {
        "id": "D8qTwUYMr0a3"
      }
    },
    {
      "cell_type": "code",
      "source": [
        "Vetor = input(\"Vetor: \")\n",
        "V = Vetor.split()\n",
        "if len(V) < 5:\n",
        "  print(\"Tamanho insuficiente\")\n",
        "elif len(V) > 5:\n",
        "  print(\"Vetor maior que o específicado\")\n",
        "else:\n",
        "  for i in range(len(V)):\n",
        "    if V[i].isdigit():\n",
        "      V[i] = int(V[i])\n",
        "    else:\n",
        "      print(\"Digite apenas números inteiros\")\n",
        "      V = []\n",
        "      break\n",
        "for k in range(len(V)):\n",
        "  print(f\"O elemento {k+1} do Vetor: {V[k]}\")"
      ],
      "metadata": {
        "id": "etS7r7Scr10B"
      },
      "execution_count": null,
      "outputs": []
    },
    {
      "cell_type": "markdown",
      "source": [
        "***18***"
      ],
      "metadata": {
        "id": "zB2ocenRu1EG"
      }
    },
    {
      "cell_type": "code",
      "source": [
        "Notas = input(\"Coloque as quatro notas obtidas durante o período: \")\n",
        "N = Notas.split()\n",
        "soma = 0\n",
        "for i in range(len(N)):\n",
        "  N[i] = float(N[i])\n",
        "  print(f\"{i+1} nota: {N[i]:.1f}\")\n",
        "  soma += N[i]\n",
        "\n",
        "media = soma/4\n",
        "print(f\"A média obtida fora: {media:.1f}\")\n",
        "\n",
        "\n"
      ],
      "metadata": {
        "id": "3jab8ujgu2B0"
      },
      "execution_count": null,
      "outputs": []
    },
    {
      "cell_type": "markdown",
      "source": [
        "***19***"
      ],
      "metadata": {
        "id": "rGkklv-HwVV6"
      }
    },
    {
      "cell_type": "code",
      "source": [
        "Numeros = input()\n",
        "Num = Numeros.split()\n",
        "for i in range(len(Num)):\n",
        "  Num[i] = float(Num[i])\n",
        "\n",
        "print(f\"O maior número é: {max(Num)}\")"
      ],
      "metadata": {
        "id": "f6SbaElhwWb_"
      },
      "execution_count": null,
      "outputs": []
    },
    {
      "cell_type": "markdown",
      "source": [
        "***20***"
      ],
      "metadata": {
        "id": "EGof5Txew2vw"
      }
    },
    {
      "cell_type": "code",
      "source": [
        "Numeros = input()\n",
        "Num = Numeros.split()\n",
        "soma = 0\n",
        "for i in range(len(Num)):\n",
        "  Num[i] = float(Num[i])\n",
        "  soma += Num[i]\n",
        "\n",
        "media = soma/len(Num)\n",
        "print(f\"A soma dos números é: {soma}\")\n",
        "print(f\"A média dos números é: {media}\")"
      ],
      "metadata": {
        "id": "c4_3Was8w3sv"
      },
      "execution_count": null,
      "outputs": []
    },
    {
      "cell_type": "markdown",
      "source": [
        "***21***"
      ],
      "metadata": {
        "id": "JIV6Csw5xWj4"
      }
    },
    {
      "cell_type": "code",
      "source": [
        "i = 1\n",
        "while i <= 50:\n",
        "  if i%2 == 0:\n",
        "    i+=1\n",
        "    pass\n",
        "  else:\n",
        "    print(i, end=\" \")\n",
        "    i+=1"
      ],
      "metadata": {
        "colab": {
          "base_uri": "https://localhost:8080/"
        },
        "id": "u1LGLnZpxXYw",
        "outputId": "befedb4c-5d3d-4c88-d8b9-d103b0dc707a"
      },
      "execution_count": null,
      "outputs": [
        {
          "output_type": "stream",
          "name": "stdout",
          "text": [
            "1 3 5 7 9 11 13 15 17 19 21 23 25 27 29 31 33 35 37 39 41 43 45 47 49 "
          ]
        }
      ]
    },
    {
      "cell_type": "markdown",
      "source": [
        "***22***"
      ],
      "metadata": {
        "id": "3KEGeZUAx1w0"
      }
    },
    {
      "cell_type": "code",
      "source": [
        "Idade = input(\"Idade das 10 pessoas: \")\n",
        "I = Idade.split()\n",
        "Sexo = input(\"Gênero das 10 pessoas: \")\n",
        "S = Sexo.split()\n",
        "\n",
        "if len(I)> 10 or len(I)< 10:\n",
        "  print(\"Quantidade de idades não batem com o requisito\")\n",
        "elif len(S)> 10 or len(S)< 10:\n",
        "  print(\"Quantidade de Gêneros colocados não batem com o requisito\")\n",
        "else:\n",
        "  Id_Mulheres = []\n",
        "  Id_Homens = []\n",
        "  for i in range(10):\n",
        "    I[i] = int(I[i])\n",
        "    if S[i] == \"M\":\n",
        "      Id_Homens.append(I[i])\n",
        "    else:\n",
        "      Id_Mulheres.append(I[i])\n",
        "\n",
        "  Id_m = sum(I)/10\n",
        "  Id_m_Mulheres = sum(Id_Mulheres)/len(Id_Mulheres)\n",
        "  Id_m_Homens = sum(Id_Homens)/len(Id_Homens)\n",
        "  print(f\"A idade média das mulheres é: {Id_m_Mulheres:.1f}\")\n",
        "  print(f\"A idade média dos homens é: {Id_m_Homens:.1f}\")\n",
        "  print(f\"A idade média total é: {Id_m:.1f}\")\n"
      ],
      "metadata": {
        "id": "1bU9k1WYx2gQ"
      },
      "execution_count": null,
      "outputs": []
    },
    {
      "cell_type": "markdown",
      "source": [
        "***23***"
      ],
      "metadata": {
        "id": "CF3O7Kxd0lM0"
      }
    },
    {
      "cell_type": "code",
      "source": [
        "soma = 0\n",
        "i=1\n",
        "while i <= 100:\n",
        "  soma+=i\n",
        "  i+=1\n",
        "print(soma)\n",
        "\n",
        "#ou\n",
        "\n",
        "n = 100\n",
        "som = ((n + 1 )*n)/2\n",
        "print(som)"
      ],
      "metadata": {
        "id": "l-SyoOZC0mMc"
      },
      "execution_count": null,
      "outputs": []
    },
    {
      "cell_type": "markdown",
      "source": [
        "***24***"
      ],
      "metadata": {
        "id": "W-CMrbzA00I8"
      }
    },
    {
      "cell_type": "code",
      "source": [
        "import numpy as np\n",
        "l = int(input(\"qt. de linhas da matriz: \"))\n",
        "c = int(input(\"qt. de colunas da matriz: \"))\n",
        "matriz = np.zeros((l,c))\n",
        "for i in range(l):\n",
        "  for j in range(c):\n",
        "    matriz[i][j] = int(input(f\"elemento inteiro da linha {[i+1]} e coluna {[j+1]}:  \"))\n",
        "\n",
        "Mat_D = matriz * 2\n",
        "print(matriz)\n",
        "print()\n",
        "print(Mat_D)\n",
        "\n",
        "#Ou\n",
        "\n",
        "#Matriz = []\n",
        "#for i in range(l):\n",
        "#  linha = []\n",
        "#  for j in range(c):\n",
        "#    linha.append(int(input(f\"Elemento da linha {i+1} e coluna {j+1}: \")))\n",
        "#  Matriz.append(linha)\n",
        "\n",
        "#Duplicação dos valores\n",
        "\n",
        "#M_D = []\n",
        "#for linha in range(l):\n",
        "#  line = []\n",
        "#  for coluna in range(c):\n",
        "#    line.append(2*Matriz[linha][coluna])\n",
        "#  M_D.append(line)\n",
        "\n",
        "#print(Matriz)\n",
        "#print()\n",
        "#print(M_D)"
      ],
      "metadata": {
        "id": "pXk48BYZ008a"
      },
      "execution_count": null,
      "outputs": []
    },
    {
      "cell_type": "markdown",
      "source": [
        "***25***"
      ],
      "metadata": {
        "id": "fl50DLkFBbBY"
      }
    },
    {
      "cell_type": "code",
      "source": [
        "import numpy as np\n",
        "l = int(input(\"qt. de linhas da matriz: \"))\n",
        "c = int(input(\"qt. de colunas da matriz: \"))\n",
        "matriz = np.zeros((l,c))\n",
        "for i in range(l):\n",
        "  for j in range(c):\n",
        "    matriz[i][j] = int(input(f\"elemento inteiro da linha {[i+1]} e coluna {[j+1]}:  \"))\n",
        "\n",
        "Mat_S = np.sum(matriz)\n",
        "print(matriz)\n",
        "print()\n",
        "print(Mat_S)"
      ],
      "metadata": {
        "id": "KcvIZlOYBeYb"
      },
      "execution_count": null,
      "outputs": []
    },
    {
      "cell_type": "markdown",
      "source": [
        "***26***"
      ],
      "metadata": {
        "id": "YgGirIa3CYFu"
      }
    },
    {
      "cell_type": "code",
      "source": [
        "contador = 0\n",
        "Pri_Pg = str(input(\"Telefonou para a vitima? \"))\n",
        "if Pri_Pg == \"S\":\n",
        "  contador += 1\n",
        "Seg_Pg = str(input(\"Esteve no local do crime? \"))\n",
        "if Seg_Pg == \"S\":\n",
        "  contador += 1\n",
        "Ter_Pg = str(input(\"Mora perto da vitima? \"))\n",
        "if Ter_Pg == \"S\":\n",
        "  contador += 1\n",
        "Quart_Pg = str(input(\"Devia para a vitima? \"))\n",
        "if Quart_Pg == \"S\":\n",
        "  contador += 1\n",
        "Quint_Pg = str(input(\"Ja trabalhou com a vitima? \"))\n",
        "if Quint_Pg == \"S\":\n",
        "  contador += 1\n",
        "\n",
        "print()\n",
        "if contador == 2 :\n",
        "  print(\"Suspeita\")\n",
        "elif 3<=contador<=4:\n",
        "  print(\"Cúmplice\")\n",
        "elif contador == 5:\n",
        "  print(\"Assassino\")\n",
        "else:\n",
        "  print(\"Inocente\")\n"
      ],
      "metadata": {
        "id": "v_9NEDHLCZMg"
      },
      "execution_count": null,
      "outputs": []
    },
    {
      "cell_type": "markdown",
      "source": [
        "***27***"
      ],
      "metadata": {
        "id": "oi7sCUWsEWqO"
      }
    },
    {
      "cell_type": "code",
      "source": [
        "def Situacao (nota_1, nota_2):\n",
        "  media = (nota_1+nota_2)/2\n",
        "  if media == 10:\n",
        "    return \"Aprovado por distinção\"\n",
        "  elif media >= 7:\n",
        "    return \"Aprovado\"\n",
        "  elif media >=3:\n",
        "    return \"Final\"\n",
        "  else:\n",
        "    return \"Reprovado\"\n",
        "\n",
        "pr_nota = float(input(\"Primeira nota: \"))\n",
        "sg_nota = float(input(\"Segunda nota: \"))\n",
        "\n",
        "print(f\"O aluno se encontra: {Situacao(pr_nota,sg_nota)}\")"
      ],
      "metadata": {
        "id": "T4NivI5qEXwJ"
      },
      "execution_count": null,
      "outputs": []
    },
    {
      "cell_type": "markdown",
      "source": [
        "***28***"
      ],
      "metadata": {
        "id": "418xqO_bFSKS"
      }
    },
    {
      "cell_type": "code",
      "source": [
        "n = int(input())\n",
        "print()\n",
        "for i in range(n):\n",
        "  print(n)"
      ],
      "metadata": {
        "id": "i7fb4fL8FTGT"
      },
      "execution_count": null,
      "outputs": []
    },
    {
      "cell_type": "markdown",
      "source": [
        "***29***"
      ],
      "metadata": {
        "id": "3nhjuFd4Fhr9"
      }
    },
    {
      "cell_type": "code",
      "source": [
        "def t_sequencia(n):\n",
        "  return n/2 #Colocar o tipo da sequencia desejavel\n",
        "\n",
        "def sequencia(n):\n",
        "  a = 1\n",
        "  for i in range(n):\n",
        "    print(t_sequencia(a))\n",
        "    a += 1\n",
        "  return \".\"\n",
        "\n",
        "n = 10\n",
        "print(sequencia(n))"
      ],
      "metadata": {
        "id": "uH_p_WqpFmnE"
      },
      "execution_count": null,
      "outputs": []
    },
    {
      "cell_type": "markdown",
      "source": [
        "***30***"
      ],
      "metadata": {
        "id": "V9VGCtbRH821"
      }
    },
    {
      "cell_type": "code",
      "source": [
        "def n_digitos(n):\n",
        "  n1 = str(n)\n",
        "  qt = 0\n",
        "  for i in range(len(n1)):\n",
        "    qt += 1\n",
        "  return qt\n",
        "\n",
        "n = int(input(\"Número: \"))\n",
        "print(f\"A quantidade de dígitos que o número {n} apresenta é: {n_digitos(n)}\")"
      ],
      "metadata": {
        "id": "DkfLp0dbH9ww"
      },
      "execution_count": null,
      "outputs": []
    },
    {
      "cell_type": "markdown",
      "source": [
        "***31***"
      ],
      "metadata": {
        "id": "dQ-FQgrAPlW0"
      }
    },
    {
      "cell_type": "code",
      "source": [
        "def inverso(n):\n",
        "  n1 = str(n)\n",
        "  for i in range(len(n1)):\n",
        "    print(int(n1[-1 - i]), end=\"\")\n",
        "  return \".\"\n",
        "\n",
        "n = int(input(\"Número: \"))\n",
        "print(f\"O inverso do número {n} é: \", end= \" \")\n",
        "print(inverso(n))"
      ],
      "metadata": {
        "id": "bdd_MfI3PmA9"
      },
      "execution_count": null,
      "outputs": []
    }
  ]
}